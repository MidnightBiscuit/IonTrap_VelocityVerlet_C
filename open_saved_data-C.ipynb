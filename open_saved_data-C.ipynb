{
 "cells": [
  {
   "cell_type": "code",
   "execution_count": 1,
   "metadata": {},
   "outputs": [],
   "source": [
    "# %pylab\n",
    "\n",
    "import numpy\n",
    "import matplotlib\n",
    "from matplotlib import pylab, mlab, pyplot\n",
    "from mpl_toolkits.mplot3d import Axes3D\n",
    "np = numpy\n",
    "plt = pyplot\n",
    "\n",
    "from pylab import *\n",
    "from numpy import *"
   ]
  },
  {
   "cell_type": "code",
   "execution_count": 2,
   "metadata": {},
   "outputs": [],
   "source": [
    "import os\n",
    "from os import listdir\n",
    "from os.path import isfile, join\n",
    "\n",
    "import tkinter as tk\n",
    "from tkinter import filedialog\n",
    "%matplotlib qt\n",
    "\n",
    "from pathlib import Path"
   ]
  },
  {
   "cell_type": "code",
   "execution_count": 3,
   "metadata": {},
   "outputs": [],
   "source": [
    "from natsort import natsorted   # natural sort marche de ouf\n",
    "import re                       # find '/' in strings\n",
    "import timeit\n",
    "cm = pylab.get_cmap('summer')   # colormap par défaut color=cm(k/len(array))"
   ]
  },
  {
   "cell_type": "code",
   "execution_count": 4,
   "metadata": {},
   "outputs": [],
   "source": [
    "from struct import unpack"
   ]
  },
  {
   "cell_type": "code",
   "execution_count": 7,
   "metadata": {},
   "outputs": [
    {
     "name": "stderr",
     "output_type": "stream",
     "text": [
      "ERROR:root:File `'../../Functions/1.2/data_fct_Adrien_point_by_point.py'` not found.\n"
     ]
    }
   ],
   "source": [
    "# Fonctions persos de Jofre et Adrien\n",
    "\n",
    "# %run function_jofre.ipy\n",
    "%run ../../Functions/1.2/data_fct_Adrien_point_by_point\n",
    "\n",
    "matplotlib.rcParams.update({'font.size': 25})"
   ]
  },
  {
   "cell_type": "code",
   "execution_count": 18,
   "metadata": {},
   "outputs": [],
   "source": [
    "m_Ca = 40 * 1.66053886e-27\n",
    "Q_Ca = 1 * 1.60217646e-19\n",
    "Udc  = 1000\n",
    "z0 = 0.02"
   ]
  },
  {
   "cell_type": "code",
   "execution_count": 48,
   "metadata": {},
   "outputs": [],
   "source": [
    "file = '/home/adrian/Documents/Programmes/C/ion_trap/two_ions_xva'"
   ]
  },
  {
   "cell_type": "code",
   "execution_count": 59,
   "metadata": {},
   "outputs": [
    {
     "data": {
      "text/plain": [
       "<function BufferedReader.close>"
      ]
     },
     "execution_count": 59,
     "metadata": {},
     "output_type": "execute_result"
    }
   ],
   "source": [
    "i_free_fly = 4000*2 # 3743\n",
    "\n",
    "fid = open(file+'.bin', 'rb')\n",
    "t_act  = fromfile(fid, float32, i_free_fly//2)\n",
    "r_z    = fromfile(fid, float32, i_free_fly)\n",
    "v_z    = fromfile(fid, float32, i_free_fly)\n",
    "a_z    = fromfile(fid, float32, i_free_fly)\n",
    "\n",
    "fid.close"
   ]
  },
  {
   "cell_type": "code",
   "execution_count": 60,
   "metadata": {},
   "outputs": [
    {
     "name": "stdout",
     "output_type": "stream",
     "text": [
      "[0.0000e+00 5.0000e-09 1.0000e-08 ... 1.9985e-05 1.9990e-05 1.9995e-05] [ 0.001       0.001       0.0009997  ... -0.00096054 -0.00095556\n",
      " -0.0009503 ] [   0.        -30.151663  -90.4459   ...  966.42725  1024.2008\n",
      " 1081.6655  ] [ 0.0000000e+00 -1.2060665e+10 -1.2057029e+10 ...  1.1584721e+10\n",
      "  1.1524696e+10  1.1461196e+10]\n"
     ]
    }
   ],
   "source": [
    "print(t_act,r_z,v_z,a_z)"
   ]
  },
  {
   "cell_type": "code",
   "execution_count": 61,
   "metadata": {},
   "outputs": [],
   "source": [
    "figure('Ion trajectory').clf()\n",
    "plt.plot(t_act*1000000,r_z[:4000]*1000,color='xkcd:vermillion')\n",
    "plt.plot(t_act*1000000,r_z[4000:]*1000,color='xkcd:azul')\n",
    "plt.xlabel('time [µs]')\n",
    "plt.ylabel('r_z [mm]')\n",
    "# plt.legend()\n",
    "grid()\n",
    "\n",
    "ticklabel_format(axis='both', style='sci')\n",
    "\n",
    "plt.tight_layout()"
   ]
  },
  {
   "cell_type": "code",
   "execution_count": 31,
   "metadata": {},
   "outputs": [],
   "source": [
    "figure('Ion energy').clf()\n",
    "plt.plot(t_act*1000000,2*(r_z+max(r_z))/1e10,ls=':',color='xkcd:vermillion')\n",
    "plt.plot(t_act*1000000, Q_Ca*Udc/z0**2*(r_z*1000)**2,color='xkcd:brown')\n",
    "plt.plot(t_act*1000000, 0.5*m_Ca*(v_z*1000)**2,color='xkcd:rouge')\n",
    "plt.plot(t_act*1000000, 0.5*m_Ca*(v_z*1000)**2 + Q_Ca*Udc/z0**2*(r_z*1000)**2,color='xkcd:black')\n",
    "plt.xlabel('time [µs]')\n",
    "plt.ylabel('E [mm]')\n",
    "# plt.legend()\n",
    "grid()\n",
    "\n",
    "ticklabel_format(axis='both', style='sci')\n",
    "\n",
    "plt.tight_layout()"
   ]
  },
  {
   "cell_type": "code",
   "execution_count": 15,
   "metadata": {},
   "outputs": [],
   "source": [
    "from scipy import fft\n",
    "from scipy.signal import blackman"
   ]
  },
  {
   "cell_type": "code",
   "execution_count": 17,
   "metadata": {},
   "outputs": [],
   "source": [
    "N = len(r_z)\n",
    "T = t_act[1] - t_act[0]\n",
    "w = blackman(N)\n",
    "r_z_fft = fft(r_z*w)\n",
    "r_z_freq = np.fft.fftfreq(N,T)[:N//2]\n",
    "\n",
    "figure('Ion trajectory - Fourier analysis').clf()\n",
    "plt.plot(r_z_freq,2/N*abs(r_z_fft[:N//2]),color='xkcd:vermillion',ls='',marker='+')\n",
    "plt.xlabel('freq [Hz]')\n",
    "plt.ylabel('real part')\n",
    "# plt.legend()\n",
    "grid()\n",
    "\n",
    "ticklabel_format(axis='both', style='sci')\n",
    "\n",
    "plt.tight_layout()"
   ]
  },
  {
   "cell_type": "code",
   "execution_count": 142,
   "metadata": {},
   "outputs": [
    {
     "data": {
      "text/plain": [
       "0.0008089049738660518"
      ]
     },
     "execution_count": 142,
     "metadata": {},
     "output_type": "execute_result"
    }
   ],
   "source": [
    "max(2/N*abs(r_z_fft[:N//2]))"
   ]
  }
 ],
 "metadata": {
  "kernelspec": {
   "display_name": "Python 3",
   "language": "python",
   "name": "python3"
  },
  "language_info": {
   "codemirror_mode": {
    "name": "ipython",
    "version": 3
   },
   "file_extension": ".py",
   "mimetype": "text/x-python",
   "name": "python",
   "nbconvert_exporter": "python",
   "pygments_lexer": "ipython3",
   "version": "3.6.7"
  }
 },
 "nbformat": 4,
 "nbformat_minor": 4
}
